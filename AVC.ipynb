{
 "cells": [
  {
   "cell_type": "code",
   "execution_count": null,
   "metadata": {},
   "outputs": [],
   "source": [
    "import numpy as np\n",
    "import autograd.numpy as np_   # Thinly-wrapped version of Numpy\n",
    "from autograd import grad\n",
    "import pandas as pd\n",
    "from sklearn.model_selection import train_test_split"
   ]
  },
  {
   "cell_type": "code",
   "execution_count": null,
   "metadata": {},
   "outputs": [],
   "source": [
    "df = pd.read_csv('healthcare-dataset-stroke-data.csv')"
   ]
  },
  {
   "cell_type": "code",
   "execution_count": null,
   "metadata": {},
   "outputs": [],
   "source": [
    "df_ = pd.get_dummies(df)\n",
    "df_ = df_.drop('bmi', axis=1)\n",
    "df_ = df_.drop('avg_glucose_level', axis=1)\n",
    "df_ = df_.drop('id', axis = 1)\n",
    "df_zero = df_[df_['stroke']  == 0]\n",
    "df_um = df_[df_['stroke']  == 1]\n",
    "\n"
   ]
  },
  {
   "cell_type": "code",
   "execution_count": null,
   "metadata": {},
   "outputs": [],
   "source": [
    "y = df_['stroke']\n",
    "X = df_.drop('stroke', axis = 1)\n",
    "X_train, X_test, y_train, y_test = train_test_split(X, y, train_size=0.3)"
   ]
  },
  {
   "cell_type": "code",
   "execution_count": null,
   "metadata": {},
   "outputs": [],
   "source": [
    "\n",
    "def loss( parametros ):\n",
    "    w, b, pontos, val = parametros\n",
    "    est = w.T @ pontos + b\n",
    "    mse = np_.mean( (est - val)**2)\n",
    "    return mse\n",
    "\n",
    "g = grad(loss)\n",
    "\n",
    "pontos = X_train.to_numpy().T.astype('float64')\n",
    "alvos = y_train.to_numpy().astype('float64')\n",
    "\n",
    "print(pontos.shape, alvos.shape)\n",
    "\n",
    "w = np.random.randn(19,1)\n",
    "b = 0.3\n",
    "alpha = 10**-3\n",
    "\n",
    "for n in range(50000):\n",
    "    grad_ = g( (w, b, pontos, alvos) )\n",
    "    w -= alpha*grad_[0]\n",
    "    b -= alpha*grad_[1]\n",
    "\n",
    "print(w)\n",
    "print(b)"
   ]
  }
 ],
 "metadata": {
  "language_info": {
   "name": "python"
  },
  "orig_nbformat": 4
 },
 "nbformat": 4,
 "nbformat_minor": 2
}
